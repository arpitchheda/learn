{
 "cells": [
  {
   "cell_type": "markdown",
   "id": "a1dce1a3",
   "metadata": {},
   "source": [
    "## 1. List Remove Append\n",
    "#### Description: Remove SPSS from input_list=['SAS', 'R', 'PYTHON', 'SPSS'] and add 'SPARK' in its place."
   ]
  },
  {
   "cell_type": "code",
   "execution_count": 1,
   "id": "7d811138",
   "metadata": {},
   "outputs": [
    {
     "name": "stdout",
     "output_type": "stream",
     "text": [
      "Before  ['SAS', 'R', 'PYTHON', 'SPSS']\n",
      "After  ['SAS', 'R', 'PYTHON', 'SPARK']\n"
     ]
    }
   ],
   "source": [
    "## Solution 1:\n",
    "input_list=['SAS', 'R', 'PYTHON', 'SPSS']\n",
    "print('Before ' , input_list)\n",
    "input_list.pop()\n",
    "input_list.append('SPARK')\n",
    "print('After ' , input_list)"
   ]
  },
  {
   "cell_type": "code",
   "execution_count": 2,
   "id": "f7e9bba3",
   "metadata": {},
   "outputs": [
    {
     "name": "stdout",
     "output_type": "stream",
     "text": [
      "Before  ['SAS', 'R', 'PYTHON', 'SPSS']\n",
      "After  ['SAS', 'R', 'PYTHON', 'SPARK']\n"
     ]
    }
   ],
   "source": [
    "## Solution 2:\n",
    "input_list=['SAS', 'R', 'PYTHON', 'SPSS']\n",
    "print('Before ' , input_list)\n",
    "input_list[input_list.index('SPSS')]='SPARK'\n",
    "print('After ' , input_list)"
   ]
  },
  {
   "cell_type": "markdown",
   "id": "79376bb1",
   "metadata": {},
   "source": [
    "## 2. String to List Conversion\n",
    "#### Description: Convert a string input_str = 'I love Data Science & Python' to a list by\n",
    "#### splitting it on ‘&’. The sample output for this string will be:\n",
    "#### ['I love Data Science ', ' Python']"
   ]
  },
  {
   "cell_type": "code",
   "execution_count": 3,
   "id": "1ccc2ee7",
   "metadata": {},
   "outputs": [
    {
     "name": "stdout",
     "output_type": "stream",
     "text": [
      "['I love Data Science ', ' Python']\n"
     ]
    }
   ],
   "source": [
    "input_str=\"I love Data Science & Python\"\n",
    "str_list=input_str.split(\"&\")\n",
    "print(str_list)"
   ]
  },
  {
   "cell_type": "markdown",
   "id": "78b9c306",
   "metadata": {},
   "source": [
    "## 3. Nested List\n",
    "#### Description: Extract Python from a nested list\n",
    "#### input_list = [['SAS','R'],['Tableau','SQL'],['Python','Java']]"
   ]
  },
  {
   "cell_type": "code",
   "execution_count": 4,
   "id": "0a172179",
   "metadata": {},
   "outputs": [
    {
     "name": "stdout",
     "output_type": "stream",
     "text": [
      "Python\n"
     ]
    }
   ],
   "source": [
    "input_list = [['SAS','R'],['Tableau','SQL'],['Python','Java']]\n",
    "print(input_list[2][0])"
   ]
  },
  {
   "cell_type": "markdown",
   "id": "147d3757",
   "metadata": {},
   "source": [
    "## 4. It’s the time to disco\n",
    "#### Description: t = (\"disco\", 12, 4.5)"
   ]
  },
  {
   "cell_type": "code",
   "execution_count": 5,
   "id": "bfd1d8d7",
   "metadata": {},
   "outputs": [
    {
     "name": "stdout",
     "output_type": "stream",
     "text": [
      "s\n"
     ]
    }
   ],
   "source": [
    "t = (\"disco\", 12, 4.5)\n",
    "print(t[0][2])"
   ]
  },
  {
   "cell_type": "markdown",
   "id": "11f20153",
   "metadata": {},
   "source": [
    "## 5. String Palindrome\n",
    "#### Description: Write a program to check whether a string is a palindrome or not. Print 1 if\n",
    "#### the string is a palindrome and 0 otherwise\n",
    "### Input: Any string\n",
    "### Output : 1 if the string is palindrome, 0 otherwise."
   ]
  },
  {
   "cell_type": "code",
   "execution_count": 6,
   "id": "79a30268",
   "metadata": {},
   "outputs": [
    {
     "name": "stdout",
     "output_type": "stream",
     "text": [
      "1\n",
      "0\n"
     ]
    }
   ],
   "source": [
    "def checkStringPalindrome(str_input):\n",
    "\tinput_len=len(str_input)\n",
    "\tloop_control=int(input_len/2)\n",
    "\tfor str_index in range(0, loop_control):\n",
    "\t\tif str_input[str_index] != str_input[input_len-str_index-1]:\n",
    "\t\t\treturn 0\n",
    "\treturn 1\n",
    "\n",
    "print(checkStringPalindrome('malayalam'))\n",
    "print(checkStringPalindrome('abc'))"
   ]
  },
  {
   "cell_type": "markdown",
   "id": "f7d1d026",
   "metadata": {},
   "source": [
    "## 6. Reverse Words\n",
    "#### Description: You will be given a sentence in the form of a string. You have to reverse the\n",
    "#### order of the words in the sentence. Remember not to reverse the individual words, but\n",
    "#### the order of words. Check the sample input-output for further clarification.\n",
    "### Input: A string, which will consist of a few spaces.\n",
    "### Output: The words in reverse order"
   ]
  },
  {
   "cell_type": "code",
   "execution_count": 7,
   "id": "4b8f0de4",
   "metadata": {},
   "outputs": [
    {
     "name": "stdout",
     "output_type": "stream",
     "text": [
      "programming love I\n"
     ]
    }
   ],
   "source": [
    "def reverseWordSentence(str_input):\n",
    "\tinput_str_list=str_input.split(\" \")\n",
    "\tloop_control=len(input_str_list)-1\n",
    "\toutput_str_list=[]\n",
    "\tfor str_index in range(loop_control,-1,-1):\n",
    "\t\toutput_str_list.append(input_str_list[str_index])\n",
    "\toutput_str = \" \".join(output_str_list)\n",
    "\treturn output_str\n",
    "\n",
    "print(reverseWordSentence(\"I love programming\"))"
   ]
  },
  {
   "cell_type": "markdown",
   "id": "ed4cc6ed",
   "metadata": {},
   "source": [
    "## 7. String Formatting\n",
    "####  Description: Write a program that satisfies below examples\n",
    "### Input 1: caloRie ConsuMed\n",
    "### Output 1: calorie_consumed\n",
    "### Input 2: data science\n",
    "### Output 2: data_science\n",
    "### Input 3: datascience\n",
    "### Output 3: datascience"
   ]
  },
  {
   "cell_type": "code",
   "execution_count": 8,
   "id": "b018eb36",
   "metadata": {},
   "outputs": [
    {
     "name": "stdout",
     "output_type": "stream",
     "text": [
      "calorie_consumed\n",
      "data_science\n",
      "datascience\n"
     ]
    }
   ],
   "source": [
    "def stringFormatting(str_input):\n",
    "\toutput_str=str_input.lower()\n",
    "\toutput_str=output_str.replace(\" \",\"_\")\n",
    "\treturn output_str\n",
    "\n",
    "print(stringFormatting(\"caloRie ConsuMed\"))\n",
    "print(stringFormatting(\"data science\"))\n",
    "print(stringFormatting(\"datascience\"))"
   ]
  },
  {
   "cell_type": "markdown",
   "id": "4138cc15",
   "metadata": {},
   "source": [
    "# Multiple Choice Questions\n",
    "## 1. How will you extract ‘love’ from the string S = “I love Python”? (More than one option may be correct.).\n",
    "### a. S[2:5]\n",
    "### b. S[2:6]\n",
    "### c. S[3:7]\n",
    "### d. S[-11:-7]\n",
    "### e. S[-11:-8]"
   ]
  },
  {
   "cell_type": "code",
   "execution_count": 9,
   "id": "c90e8209",
   "metadata": {},
   "outputs": [
    {
     "name": "stdout",
     "output_type": "stream",
     "text": [
      "love\n",
      "love\n"
     ]
    }
   ],
   "source": [
    "## Answer 1. Option b,d\n",
    "S = 'I love Python'\n",
    "print(S[2:6])\n",
    "print(S[-11:-7])"
   ]
  },
  {
   "cell_type": "markdown",
   "id": "aed7f7af",
   "metadata": {},
   "source": [
    "## 2. What will the output of 3 * 3 ** 3 be?\n",
    "### a. 9\n",
    "### b. 27\n",
    "### c. 81\n",
    "### d. 729"
   ]
  },
  {
   "cell_type": "code",
   "execution_count": 10,
   "id": "53e643e0",
   "metadata": {},
   "outputs": [
    {
     "name": "stdout",
     "output_type": "stream",
     "text": [
      "81\n"
     ]
    }
   ],
   "source": [
    "## Answer 2. Option d. 81\n",
    "print(3 * 3 ** 3 )"
   ]
  },
  {
   "cell_type": "markdown",
   "id": "0bd771a6",
   "metadata": {},
   "source": [
    "## 3. What will the output be of ((500//7) % 5) ** 3?\n",
    "### a. 1\n",
    "### b. 2.91\n",
    "### c. 71.42\n",
    "### d. 0\n",
    "### e. 8"
   ]
  },
  {
   "cell_type": "code",
   "execution_count": 11,
   "id": "a28a60f0",
   "metadata": {},
   "outputs": [
    {
     "name": "stdout",
     "output_type": "stream",
     "text": [
      "1\n"
     ]
    }
   ],
   "source": [
    "### Answer 3. Option a\n",
    "print(((500//7) % 5) ** 3)"
   ]
  },
  {
   "cell_type": "markdown",
   "id": "76b11ec9",
   "metadata": {},
   "source": [
    "## 4. If you have a tuple T = (3, 5, 7, 11), what will the output of T.append(9) be?\n",
    "### a. (3, 5, 7, 9, 11)\n",
    "### b. (9, 3, 5, 7, 11)\n",
    "### c. (3, 5, 7, 11, 9)\n",
    "### d. Error"
   ]
  },
  {
   "cell_type": "code",
   "execution_count": 12,
   "id": "52682172",
   "metadata": {},
   "outputs": [
    {
     "ename": "AttributeError",
     "evalue": "'tuple' object has no attribute 'append'",
     "output_type": "error",
     "traceback": [
      "\u001b[1;31m---------------------------------------------------------------------------\u001b[0m",
      "\u001b[1;31mAttributeError\u001b[0m                            Traceback (most recent call last)",
      "\u001b[1;32m<ipython-input-12-07118af80ae4>\u001b[0m in \u001b[0;36m<module>\u001b[1;34m\u001b[0m\n\u001b[0;32m      1\u001b[0m \u001b[1;31m## Answer 4. Option d. Error\u001b[0m\u001b[1;33m\u001b[0m\u001b[1;33m\u001b[0m\u001b[1;33m\u001b[0m\u001b[0m\n\u001b[0;32m      2\u001b[0m \u001b[0mT\u001b[0m \u001b[1;33m=\u001b[0m \u001b[1;33m(\u001b[0m\u001b[1;36m3\u001b[0m\u001b[1;33m,\u001b[0m \u001b[1;36m5\u001b[0m\u001b[1;33m,\u001b[0m \u001b[1;36m7\u001b[0m\u001b[1;33m,\u001b[0m \u001b[1;36m11\u001b[0m\u001b[1;33m)\u001b[0m\u001b[1;33m\u001b[0m\u001b[1;33m\u001b[0m\u001b[0m\n\u001b[1;32m----> 3\u001b[1;33m \u001b[0mT\u001b[0m\u001b[1;33m.\u001b[0m\u001b[0mappend\u001b[0m\u001b[1;33m(\u001b[0m\u001b[1;36m9\u001b[0m\u001b[1;33m)\u001b[0m\u001b[1;33m\u001b[0m\u001b[1;33m\u001b[0m\u001b[0m\n\u001b[0m",
      "\u001b[1;31mAttributeError\u001b[0m: 'tuple' object has no attribute 'append'"
     ]
    }
   ],
   "source": [
    "## Answer 4. Option d. Error \n",
    "T = (3, 5, 7, 11)\n",
    "T.append(9)"
   ]
  },
  {
   "cell_type": "markdown",
   "id": "34a96df2",
   "metadata": {},
   "source": [
    "## 6. What will the output of the following code be?\n",
    "#### l = [32, 34, 12, 27, 33]\n",
    "#### l.append((l4, 19))\n",
    "#### print(len(l))\n",
    "### a. 5\n",
    "### b. 6\n",
    "### c. 7\n",
    "### d. The code will throw an error\n"
   ]
  },
  {
   "cell_type": "code",
   "execution_count": 13,
   "id": "dbb6bfcc",
   "metadata": {},
   "outputs": [
    {
     "name": "stdout",
     "output_type": "stream",
     "text": [
      "6\n"
     ]
    }
   ],
   "source": [
    "## Answer 6. Option 6\n",
    "l=[32, 34, 12, 27, 33]\n",
    "l.append((14, 19))\n",
    "print(len(l))"
   ]
  },
  {
   "cell_type": "markdown",
   "id": "8fcc1253",
   "metadata": {},
   "source": [
    "## 7. Which of the following statements is incorrect regarding sets in Python?\n",
    "### a. Sets do not contain duplicate elements\n",
    "### b. Sets are represented using curly braces {}\n",
    "### c. Sets are immutable\n",
    "### d. All of the above"
   ]
  },
  {
   "cell_type": "markdown",
   "id": "b1c039cf",
   "metadata": {},
   "source": [
    "## Answer 7. Option a. Sets do not contain duplicate elements"
   ]
  },
  {
   "cell_type": "markdown",
   "id": "6c2dbfe0",
   "metadata": {},
   "source": [
    "## 8. What will be the output of following\n",
    "#### D = {'l':['Raj', 22], '2':['Simran', 21], '3':['Rahul', 40]}\n",
    "#### for val in D:\n",
    "####  print(val)\n",
    "### a. 1\n",
    "###     2\n",
    "###     3\n",
    "### b. [‘Raj’, 22]\n",
    "###     [‘Simran’, 21]\n",
    "###     [‘Rahul’, 40]\n",
    "### c. 1 [‘Raj’, 22]\n",
    "###     2 [‘Simran’, 21]\n",
    "###     3 [‘Rahul’, 40]\n",
    "### d. ‘Raj’\n",
    "###      'Simran'\n",
    "###      'Rahul'\n"
   ]
  },
  {
   "cell_type": "code",
   "execution_count": 14,
   "id": "30b79cf6",
   "metadata": {},
   "outputs": [
    {
     "name": "stdout",
     "output_type": "stream",
     "text": [
      "l\n",
      "2\n",
      "3\n"
     ]
    }
   ],
   "source": [
    "## Answer 8. Option a. 1\\n2\\n3\n",
    "D={'l':['Raj', 22], '2':['Simran', 21], '3':['Rahul', 40]}\n",
    "for val in D:\n",
    "    print(val)"
   ]
  },
  {
   "cell_type": "markdown",
   "id": "0f4502e4",
   "metadata": {},
   "source": [
    "## 9. What will the ‘comprehension equivalent’ be for the following snippet of code?\n",
    "#### for sentence in paragraph:\n",
    "####     for word in sentence.split():\n",
    "####         single_word_list.append(word)\n",
    "\n",
    "### a. word for sentence in paragraph for word in sentence.split()\n",
    "### b. [word for sentence in paragraph for word in sentence.split()]\n",
    "### c. word for word in sentence.split() for sentence in paragraph\n",
    "### d. [word for word in sentence.split() for sentence in paragraph]"
   ]
  },
  {
   "cell_type": "markdown",
   "id": "5f518378",
   "metadata": {},
   "source": [
    "## Answer 9. Option b [word for sentence in paragraph for word in sentence.split()]"
   ]
  },
  {
   "cell_type": "markdown",
   "id": "afeb66f6",
   "metadata": {},
   "source": [
    "## 10. What will be the output of this code?\n",
    "#### print(list(range(10,1,-1)))\n",
    "### a. [10, 9, 8, 7, 6, 5, 4, 3, 2, 1]\n",
    "### b. [9, 8, 7, 6, 5, 4, 3, 2]\n",
    "### c. [9, 8, 7, 6, 5, 4, 3, 2, 1]\n",
    "### d. [10, 9, 8, 7, 6, 5, 4, 3, 2]"
   ]
  },
  {
   "cell_type": "code",
   "execution_count": 15,
   "id": "981a4b3c",
   "metadata": {},
   "outputs": [
    {
     "name": "stdout",
     "output_type": "stream",
     "text": [
      "[10, 9, 8, 7, 6, 5, 4, 3, 2]\n"
     ]
    }
   ],
   "source": [
    "## Answer 10. Option d [10, 9, 8, 7, 6, 5, 4, 3, 2]\n",
    "print(list(range(10,1,-1)))"
   ]
  },
  {
   "cell_type": "code",
   "execution_count": null,
   "id": "661342b8",
   "metadata": {},
   "outputs": [],
   "source": []
  }
 ],
 "metadata": {
  "kernelspec": {
   "display_name": "Python [conda env:psw] *",
   "language": "python",
   "name": "conda-env-psw-py"
  },
  "language_info": {
   "codemirror_mode": {
    "name": "ipython",
    "version": 3
   },
   "file_extension": ".py",
   "mimetype": "text/x-python",
   "name": "python",
   "nbconvert_exporter": "python",
   "pygments_lexer": "ipython3",
   "version": "3.7.9"
  }
 },
 "nbformat": 4,
 "nbformat_minor": 5
}
